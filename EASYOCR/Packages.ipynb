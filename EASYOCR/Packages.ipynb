{
 "cells": [
  {
   "cell_type": "code",
   "execution_count": 1,
   "metadata": {},
   "outputs": [
    {
     "name": "stdout",
     "output_type": "stream",
     "text": [
      "Collecting googletrans\n",
      "  Using cached https://files.pythonhosted.org/packages/71/3a/3b19effdd4c03958b90f40fe01c93de6d5280e03843cc5adf6956bfc9512/googletrans-3.0.0.tar.gz\n",
      "Collecting httpx==0.13.3 (from googletrans)\n",
      "  Using cached https://files.pythonhosted.org/packages/54/b4/698b284c6aed4d7c2b4fe3ba5df1fcf6093612423797e76fbb24890dd22f/httpx-0.13.3-py3-none-any.whl\n",
      "Collecting httpcore==0.9.* (from httpx==0.13.3->googletrans)\n",
      "  Using cached https://files.pythonhosted.org/packages/dd/d5/e4ff9318693ac6101a2095e580908b591838c6f33df8d3ee8dd953ba96a8/httpcore-0.9.1-py3-none-any.whl\n",
      "Collecting certifi (from httpx==0.13.3->googletrans)\n",
      "  Downloading https://files.pythonhosted.org/packages/5e/a0/5f06e1e1d463903cf0c0eebeb751791119ed7a4b3737fdc9a77f1cdfb51f/certifi-2020.12.5-py2.py3-none-any.whl (147kB)\n",
      "Collecting idna==2.* (from httpx==0.13.3->googletrans)\n",
      "  Using cached https://files.pythonhosted.org/packages/a2/38/928ddce2273eaa564f6f50de919327bf3a00f091b5baba8dfa9460f3a8a8/idna-2.10-py2.py3-none-any.whl\n",
      "Collecting chardet==3.* (from httpx==0.13.3->googletrans)\n",
      "  Using cached https://files.pythonhosted.org/packages/bc/a9/01ffebfb562e4274b6487b4bb1ddec7ca55ec7510b22e4c51f14098443b8/chardet-3.0.4-py2.py3-none-any.whl\n",
      "Collecting rfc3986<2,>=1.3 (from httpx==0.13.3->googletrans)\n",
      "  Using cached https://files.pythonhosted.org/packages/78/be/7b8b99fd74ff5684225f50dd0e865393d2265656ef3b4ba9eaaaffe622b8/rfc3986-1.4.0-py2.py3-none-any.whl\n",
      "Collecting sniffio (from httpx==0.13.3->googletrans)\n",
      "  Downloading https://files.pythonhosted.org/packages/52/b0/7b2e028b63d092804b6794595871f936aafa5e9322dcaaad50ebf67445b3/sniffio-1.2.0-py3-none-any.whl\n",
      "Collecting hstspreload (from httpx==0.13.3->googletrans)\n",
      "  Downloading https://files.pythonhosted.org/packages/d3/3c/cdeaf9ab0404853e77c45d9e8021d0d2c01f70a1bb26e460090926fe2a5e/hstspreload-2020.11.21-py3-none-any.whl (981kB)\n",
      "Collecting h11<0.10,>=0.8 (from httpcore==0.9.*->httpx==0.13.3->googletrans)\n",
      "  Using cached https://files.pythonhosted.org/packages/5a/fd/3dad730b0f95e78aeeb742f96fa7bbecbdd56a58e405d3da440d5bfb90c6/h11-0.9.0-py2.py3-none-any.whl\n",
      "Collecting h2==3.* (from httpcore==0.9.*->httpx==0.13.3->googletrans)\n",
      "  Using cached https://files.pythonhosted.org/packages/25/de/da019bcc539eeab02f6d45836f23858ac467f584bfec7a526ef200242afe/h2-3.2.0-py2.py3-none-any.whl\n",
      "Collecting hyperframe<6,>=5.2.0 (from h2==3.*->httpcore==0.9.*->httpx==0.13.3->googletrans)\n",
      "  Using cached https://files.pythonhosted.org/packages/19/0c/bf88182bcb5dce3094e2f3e4fe20db28a9928cb7bd5b08024030e4b140db/hyperframe-5.2.0-py2.py3-none-any.whl\n",
      "Collecting hpack<4,>=3.0 (from h2==3.*->httpcore==0.9.*->httpx==0.13.3->googletrans)\n",
      "  Using cached https://files.pythonhosted.org/packages/8a/cc/e53517f4a1e13f74776ca93271caef378dadec14d71c61c949d759d3db69/hpack-3.0.0-py2.py3-none-any.whl\n",
      "Installing collected packages: sniffio, h11, hyperframe, hpack, h2, httpcore, certifi, idna, chardet, rfc3986, hstspreload, httpx, googletrans\n",
      "  Running setup.py install for googletrans: started\n",
      "    Running setup.py install for googletrans: finished with status 'done'\n",
      "Successfully installed certifi-2020.12.5 chardet-3.0.4 googletrans-3.0.0 h11-0.9.0 h2-3.2.0 hpack-3.0.0 hstspreload-2020.11.21 httpcore-0.9.1 httpx-0.13.3 hyperframe-5.2.0 idna-2.10 rfc3986-1.4.0 sniffio-1.2.0\n"
     ]
    },
    {
     "name": "stderr",
     "output_type": "stream",
     "text": [
      "WARNING: You are using pip version 19.2.3, however version 20.3.3 is available.\n",
      "You should consider upgrading via the 'python -m pip install --upgrade pip' command.\n"
     ]
    }
   ],
   "source": [
    "#packages\n",
    "!pip install googletrans"
   ]
  },
  {
   "cell_type": "code",
   "execution_count": 2,
   "metadata": {},
   "outputs": [
    {
     "name": "stdout",
     "output_type": "stream",
     "text": [
      "Collecting textblob\n",
      "  Using cached https://files.pythonhosted.org/packages/60/f0/1d9bfcc8ee6b83472ec571406bd0dd51c0e6330ff1a51b2d29861d389e85/textblob-0.15.3-py2.py3-none-any.whl\n",
      "Collecting nltk>=3.1 (from textblob)\n",
      "  Using cached https://files.pythonhosted.org/packages/92/75/ce35194d8e3022203cca0d2f896dbb88689f9b3fce8e9f9cff942913519d/nltk-3.5.zip\n",
      "Collecting click (from nltk>=3.1->textblob)\n",
      "  Using cached https://files.pythonhosted.org/packages/d2/3d/fa76db83bf75c4f8d338c2fd15c8d33fdd7ad23a9b5e57eb6c5de26b430e/click-7.1.2-py2.py3-none-any.whl\n",
      "Collecting joblib (from nltk>=3.1->textblob)\n",
      "  Downloading https://files.pythonhosted.org/packages/34/5b/bd0f0fb5564183884d8e35b81d06d7ec06a20d1a0c8b4c407f1554691dce/joblib-1.0.0-py3-none-any.whl (302kB)\n",
      "Collecting regex (from nltk>=3.1->textblob)\n",
      "  Downloading https://files.pythonhosted.org/packages/45/8c/cd9932e80a28cebe5bf4912624a77ab3681c5694042f10e5028e902f1b36/regex-2020.11.13-cp38-cp38-win_amd64.whl (270kB)\n",
      "Collecting tqdm (from nltk>=3.1->textblob)\n",
      "  Downloading https://files.pythonhosted.org/packages/8a/54/115f0c28a61d56674c3a5e05c46d6c3523ad196e1dcd3e2d8b119026df36/tqdm-4.54.1-py2.py3-none-any.whl (69kB)\n",
      "Installing collected packages: click, joblib, regex, tqdm, nltk, textblob\n",
      "  Running setup.py install for nltk: started\n",
      "    Running setup.py install for nltk: finished with status 'done'\n",
      "Successfully installed click-7.1.2 joblib-1.0.0 nltk-3.5 regex-2020.11.13 textblob-0.15.3 tqdm-4.54.1\n"
     ]
    },
    {
     "name": "stderr",
     "output_type": "stream",
     "text": [
      "WARNING: You are using pip version 19.2.3, however version 20.3.3 is available.\n",
      "You should consider upgrading via the 'python -m pip install --upgrade pip' command.\n"
     ]
    }
   ],
   "source": [
    "!pip install textblob\n"
   ]
  },
  {
   "cell_type": "code",
   "execution_count": 3,
   "metadata": {},
   "outputs": [
    {
     "name": "stdout",
     "output_type": "stream",
     "text": [
      "Collecting easyocr\n",
      "  Downloading https://files.pythonhosted.org/packages/71/49/40e21dec1e05213bde222b7132d26556a6f811a93e6b4547f50de5254d0a/easyocr-1.2.1-py3-none-any.whl (57.2MB)\n",
      "Collecting torch (from easyocr)\n",
      "  Downloading https://files.pythonhosted.org/packages/b3/d1/a5eaef4fadbee9e31133b364a143aab54133fee5e6087e84c6a8f883b0f1/torch-1.7.1-cp38-cp38-win_amd64.whl (184.0MB)\n",
      "Collecting Pillow (from easyocr)\n",
      "  Downloading https://files.pythonhosted.org/packages/d2/2c/9ac71068585b3d528349be6617ed963068bfcba3da21018cdb0d2b19f07c/Pillow-8.0.1-cp38-cp38-win_amd64.whl (2.1MB)\n",
      "Collecting scikit-image (from easyocr)\n",
      "  Downloading https://files.pythonhosted.org/packages/21/f5/b19b1cc9737843309b4f513a9a92f395ea94bde612708853a5f6799d6c3d/scikit_image-0.18.0-cp38-cp38-win_amd64.whl (12.2MB)\n",
      "Collecting scipy (from easyocr)\n",
      "  Downloading https://files.pythonhosted.org/packages/d1/79/3d00d6d7f386741b6f4e1cf1fadc2d0b50bd11564ac4f25163f87bfd3810/scipy-1.5.4-cp38-cp38-win_amd64.whl (31.4MB)\n",
      "Collecting torchvision>=0.5 (from easyocr)\n",
      "  Downloading https://files.pythonhosted.org/packages/50/94/03683a943b1d241e7f4bcdc79b2537b6094533a4b1712504059d4b07119e/torchvision-0.5.0-cp38-cp38-win_amd64.whl (1.2MB)\n",
      "Collecting python-bidi (from easyocr)\n",
      "  Using cached https://files.pythonhosted.org/packages/33/b0/f942d146a2f457233baaafd6bdf624eba8e0f665045b4abd69d1b62d097d/python_bidi-0.4.2-py2.py3-none-any.whl\n",
      "Collecting opencv-python (from easyocr)\n",
      "  Downloading https://files.pythonhosted.org/packages/3d/a0/a8c820e452653b6dc066160670874bc8a82a292bd364ac9d0e28b143d3ba/opencv_python-4.4.0.46-cp38-cp38-win_amd64.whl (33.5MB)\n",
      "Collecting numpy (from easyocr)\n",
      "  Downloading https://files.pythonhosted.org/packages/40/db/5060f18b0116f00ee73f8365efc9c95bd5496946290b0e7c97b6ee89dffe/numpy-1.19.4-cp38-cp38-win_amd64.whl (13.0MB)\n",
      "Collecting typing-extensions (from torch->easyocr)\n",
      "  Downloading https://files.pythonhosted.org/packages/60/7a/e881b5abb54db0e6e671ab088d079c57ce54e8a01a3ca443f561ccadb37e/typing_extensions-3.7.4.3-py3-none-any.whl\n",
      "Collecting tifffile>=2019.7.26 (from scikit-image->easyocr)\n",
      "  Downloading https://files.pythonhosted.org/packages/27/ee/63c1314e5e2d8ff59b5afffb13ea245c65ce796bda4feacc7013ea4a300b/tifffile-2020.12.8-py3-none-any.whl (157kB)\n",
      "Collecting networkx>=2.0 (from scikit-image->easyocr)\n",
      "  Using cached https://files.pythonhosted.org/packages/9b/cd/dc52755d30ba41c60243235460961fc28022e5b6731f16c268667625baea/networkx-2.5-py3-none-any.whl\n",
      "Collecting matplotlib!=3.0.0,>=2.0.0 (from scikit-image->easyocr)\n",
      "  Downloading https://files.pythonhosted.org/packages/42/7b/7c05e601af729d8289876aa00f530b27aea9b11768a2846bc941f9d058ef/matplotlib-3.3.3-cp38-cp38-win_amd64.whl (8.5MB)\n",
      "Collecting imageio>=2.3.0 (from scikit-image->easyocr)\n",
      "  Using cached https://files.pythonhosted.org/packages/6e/57/5d899fae74c1752f52869b613a8210a2480e1a69688e65df6cb26117d45d/imageio-2.9.0-py3-none-any.whl\n",
      "Collecting PyWavelets>=1.1.1 (from scikit-image->easyocr)\n",
      "  Downloading https://files.pythonhosted.org/packages/78/e7/b120cd033c81710712e7893760d181d926df8a583d3334354232662a64ff/PyWavelets-1.1.1-cp38-cp38-win_amd64.whl (4.3MB)\n",
      "Collecting six (from torchvision>=0.5->easyocr)\n",
      "  Using cached https://files.pythonhosted.org/packages/ee/ff/48bde5c0f013094d729fe4b0316ba2a24774b3ff1c52d924a8a4cb04078a/six-1.15.0-py2.py3-none-any.whl\n",
      "Collecting decorator>=4.3.0 (from networkx>=2.0->scikit-image->easyocr)\n",
      "  Using cached https://files.pythonhosted.org/packages/ed/1b/72a1821152d07cf1d8b6fce298aeb06a7eb90f4d6d41acec9861e7cc6df0/decorator-4.4.2-py2.py3-none-any.whl\n",
      "Collecting kiwisolver>=1.0.1 (from matplotlib!=3.0.0,>=2.0.0->scikit-image->easyocr)\n",
      "  Downloading https://files.pythonhosted.org/packages/a8/be/9a8f1a59c94f99544366fd3680373ccd6cf6dcd504e02d504486e9f0943b/kiwisolver-1.3.1-cp38-cp38-win_amd64.whl (51kB)\n",
      "Collecting pyparsing!=2.0.4,!=2.1.2,!=2.1.6,>=2.0.3 (from matplotlib!=3.0.0,>=2.0.0->scikit-image->easyocr)\n",
      "  Using cached https://files.pythonhosted.org/packages/8a/bb/488841f56197b13700afd5658fc279a2025a39e22449b7cf29864669b15d/pyparsing-2.4.7-py2.py3-none-any.whl\n",
      "Collecting python-dateutil>=2.1 (from matplotlib!=3.0.0,>=2.0.0->scikit-image->easyocr)\n",
      "  Using cached https://files.pythonhosted.org/packages/d4/70/d60450c3dd48ef87586924207ae8907090de0b306af2bce5d134d78615cb/python_dateutil-2.8.1-py2.py3-none-any.whl\n",
      "Collecting cycler>=0.10 (from matplotlib!=3.0.0,>=2.0.0->scikit-image->easyocr)\n",
      "  Using cached https://files.pythonhosted.org/packages/f7/d2/e07d3ebb2bd7af696440ce7e754c59dd546ffe1bbe732c8ab68b9c834e61/cycler-0.10.0-py2.py3-none-any.whl\n",
      "Installing collected packages: numpy, typing-extensions, torch, Pillow, tifffile, scipy, decorator, networkx, kiwisolver, pyparsing, six, python-dateutil, cycler, matplotlib, imageio, PyWavelets, scikit-image, torchvision, python-bidi, opencv-python, easyocr\n",
      "Successfully installed Pillow-8.0.1 PyWavelets-1.1.1 cycler-0.10.0 decorator-4.4.2 easyocr-1.2.1 imageio-2.9.0 kiwisolver-1.3.1 matplotlib-3.3.3 networkx-2.5 numpy-1.19.4 opencv-python-4.4.0.46 pyparsing-2.4.7 python-bidi-0.4.2 python-dateutil-2.8.1 scikit-image-0.18.0 scipy-1.5.4 six-1.15.0 tifffile-2020.12.8 torch-1.7.1 torchvision-0.5.0 typing-extensions-3.7.4.3\n"
     ]
    },
    {
     "name": "stderr",
     "output_type": "stream",
     "text": [
      "ERROR: torchvision 0.5.0 has requirement torch==1.4.0, but you'll have torch 1.7.1 which is incompatible.\n",
      "WARNING: You are using pip version 19.2.3, however version 20.3.3 is available.\n",
      "You should consider upgrading via the 'python -m pip install --upgrade pip' command.\n"
     ]
    }
   ],
   "source": [
    "!pip install easyocr"
   ]
  },
  {
   "cell_type": "code",
   "execution_count": 1,
   "metadata": {},
   "outputs": [
    {
     "name": "stdout",
     "output_type": "stream",
     "text": [
      "Collecting googletrans==3.1.0a0\n",
      "  Downloading googletrans-3.1.0a0.tar.gz (19 kB)\n",
      "Requirement already satisfied: httpx==0.13.3 in c:\\users\\ahad\\anaconda3\\envs\\translator\\lib\\site-packages (from googletrans==3.1.0a0) (0.13.3)\n",
      "Requirement already satisfied: sniffio in c:\\users\\ahad\\anaconda3\\envs\\translator\\lib\\site-packages (from httpx==0.13.3->googletrans==3.1.0a0) (1.1.0)\n",
      "Requirement already satisfied: certifi in c:\\users\\ahad\\anaconda3\\envs\\translator\\lib\\site-packages (from httpx==0.13.3->googletrans==3.1.0a0) (2020.12.5)\n",
      "Requirement already satisfied: rfc3986<2,>=1.3 in c:\\users\\ahad\\anaconda3\\envs\\translator\\lib\\site-packages (from httpx==0.13.3->googletrans==3.1.0a0) (1.4.0)\n",
      "Requirement already satisfied: httpcore==0.9.* in c:\\users\\ahad\\anaconda3\\envs\\translator\\lib\\site-packages (from httpx==0.13.3->googletrans==3.1.0a0) (0.9.1)\n",
      "Requirement already satisfied: chardet==3.* in c:\\users\\ahad\\anaconda3\\envs\\translator\\lib\\site-packages (from httpx==0.13.3->googletrans==3.1.0a0) (3.0.4)\n",
      "Requirement already satisfied: hstspreload in c:\\users\\ahad\\anaconda3\\envs\\translator\\lib\\site-packages (from httpx==0.13.3->googletrans==3.1.0a0) (2020.9.15)\n",
      "Requirement already satisfied: idna==2.* in c:\\users\\ahad\\anaconda3\\envs\\translator\\lib\\site-packages (from httpx==0.13.3->googletrans==3.1.0a0) (2.10)\n",
      "Requirement already satisfied: contextvars>=2.1; python_version < \"3.7\" in c:\\users\\ahad\\anaconda3\\envs\\translator\\lib\\site-packages (from sniffio->httpx==0.13.3->googletrans==3.1.0a0) (2.4)\n",
      "Requirement already satisfied: h2==3.* in c:\\users\\ahad\\anaconda3\\envs\\translator\\lib\\site-packages (from httpcore==0.9.*->httpx==0.13.3->googletrans==3.1.0a0) (3.2.0)\n",
      "Requirement already satisfied: h11<0.10,>=0.8 in c:\\users\\ahad\\anaconda3\\envs\\translator\\lib\\site-packages (from httpcore==0.9.*->httpx==0.13.3->googletrans==3.1.0a0) (0.9.0)\n",
      "Requirement already satisfied: immutables>=0.9 in c:\\users\\ahad\\anaconda3\\envs\\translator\\lib\\site-packages (from contextvars>=2.1; python_version < \"3.7\"->sniffio->httpx==0.13.3->googletrans==3.1.0a0) (0.14)\n",
      "Requirement already satisfied: hpack<4,>=3.0 in c:\\users\\ahad\\anaconda3\\envs\\translator\\lib\\site-packages (from h2==3.*->httpcore==0.9.*->httpx==0.13.3->googletrans==3.1.0a0) (3.0.0)\n",
      "Requirement already satisfied: hyperframe<6,>=5.2.0 in c:\\users\\ahad\\anaconda3\\envs\\translator\\lib\\site-packages (from h2==3.*->httpcore==0.9.*->httpx==0.13.3->googletrans==3.1.0a0) (5.2.0)\n",
      "Building wheels for collected packages: googletrans\n",
      "  Building wheel for googletrans (setup.py): started\n",
      "  Building wheel for googletrans (setup.py): finished with status 'done'\n",
      "  Created wheel for googletrans: filename=googletrans-3.1.0a0-py3-none-any.whl size=16378 sha256=907426b820a5a72155873d5aa4ed5fa6ea5e1e3e89cfb362e5c34110bd98a090\n",
      "  Stored in directory: c:\\users\\ahad\\appdata\\local\\pip\\cache\\wheels\\26\\36\\33\\1ead496ea4484c4df14c9d148c9e2676a1a2d821bc88d4f453\n",
      "Successfully built googletrans\n",
      "Installing collected packages: googletrans\n",
      "  Attempting uninstall: googletrans\n",
      "    Found existing installation: googletrans 3.0.0\n",
      "    Uninstalling googletrans-3.0.0:\n",
      "      Successfully uninstalled googletrans-3.0.0\n",
      "Successfully installed googletrans-3.1.0a0\n"
     ]
    }
   ],
   "source": [
    "!pip install googletrans==3.1.0a0"
   ]
  },
  {
   "cell_type": "code",
   "execution_count": null,
   "metadata": {},
   "outputs": [],
   "source": []
  }
 ],
 "metadata": {
  "kernelspec": {
   "display_name": "Python 3",
   "language": "python",
   "name": "python3"
  },
  "language_info": {
   "codemirror_mode": {
    "name": "ipython",
    "version": 3
   },
   "file_extension": ".py",
   "mimetype": "text/x-python",
   "name": "python",
   "nbconvert_exporter": "python",
   "pygments_lexer": "ipython3",
   "version": "3.6.5"
  }
 },
 "nbformat": 4,
 "nbformat_minor": 4
}
