{
 "cells": [
  {
   "cell_type": "code",
   "execution_count": 69,
   "metadata": {},
   "outputs": [],
   "source": [
    "from tkinter import *\n",
    "from tkinter.ttk import Combobox\n",
    "from tkinter import messagebox\n",
    "from textblob import TextBlob\n",
    "# loading Python Imaging Library \n",
    "from PIL import ImageTk, Image \n",
    "  \n",
    "# To get the dialog box to open when required  \n",
    "from tkinter import filedialog \n",
    "\n",
    "#text extraction\n",
    "import easyocr"
   ]
  },
  {
   "cell_type": "code",
   "execution_count": 70,
   "metadata": {},
   "outputs": [
    {
     "name": "stderr",
     "output_type": "stream",
     "text": [
      "Using CPU. Note: This module is much faster with a GPU.\n"
     ]
    }
   ],
   "source": [
    "root = Tk()\n",
    "#Download the model\n",
    "reader = easyocr.Reader(['en'], gpu=False)"
   ]
  },
  {
   "cell_type": "code",
   "execution_count": 71,
   "metadata": {},
   "outputs": [],
   "source": [
    "### Window configurations\n",
    "root.geometry('500x400')\n",
    "root.title('Translator')\n",
    "#root.iconbitmap(\"translator.ico\")\n",
    "root.resizable(False, False)\n",
    "root.configure(bg='black')"
   ]
  },
  {
   "cell_type": "code",
   "execution_count": 72,
   "metadata": {},
   "outputs": [],
   "source": [
    "#language dictionary\n",
    "lang_dict = {'afrikaans': 'af',\n",
    " 'albanian': 'sq',\n",
    " 'amharic': 'am',\n",
    " 'arabic': 'ar',\n",
    " 'armenian': 'hy',\n",
    " 'azerbaijani': 'az',\n",
    " 'basque': 'eu',\n",
    " 'belarusian': 'be',\n",
    " 'bengali': 'bn',\n",
    " 'bosnian': 'bs',\n",
    " 'bulgarian': 'bg',\n",
    " 'catalan': 'ca',\n",
    " 'cebuano': 'ceb',\n",
    " 'chichewa': 'ny',\n",
    " 'chinese (simplified)': 'zh-cn',\n",
    " 'chinese (traditional)': 'zh-tw',\n",
    " 'corsican': 'co',\n",
    " 'croatian': 'hr',\n",
    " 'czech': 'cs',\n",
    " 'danish': 'da',\n",
    " 'dutch': 'nl',\n",
    " 'english': 'en',\n",
    " 'esperanto': 'eo',\n",
    " 'estonian': 'et',\n",
    " 'filipino': 'tl',\n",
    " 'finnish': 'fi',\n",
    " 'french': 'fr',\n",
    " 'frisian': 'fy',\n",
    " 'galician': 'gl',\n",
    " 'georgian': 'ka',\n",
    " 'german': 'de',\n",
    " 'greek': 'el',\n",
    " 'gujarati': 'gu',\n",
    " 'haitian creole': 'ht',\n",
    " 'hausa': 'ha',\n",
    " 'hawaiian': 'haw',\n",
    " 'hebrew': 'he',\n",
    " 'hindi': 'hi',\n",
    " 'hmong': 'hmn',\n",
    " 'hungarian': 'hu',\n",
    " 'icelandic': 'is',\n",
    " 'igbo': 'ig',\n",
    " 'indonesian': 'id',\n",
    " 'irish': 'ga',\n",
    " 'italian': 'it',\n",
    " 'japanese': 'ja',\n",
    " 'javanese': 'jw',\n",
    " 'kannada': 'kn',\n",
    " 'kazakh': 'kk',\n",
    " 'khmer': 'km',\n",
    " 'korean': 'ko',\n",
    " 'kurdish (kurmanji)': 'ku',\n",
    " 'kyrgyz': 'ky',\n",
    " 'lao': 'lo',\n",
    " 'latin': 'la',\n",
    " 'latvian': 'lv',\n",
    " 'lithuanian': 'lt',\n",
    " 'luxembourgish': 'lb',\n",
    " 'macedonian': 'mk',\n",
    " 'malagasy': 'mg',\n",
    " 'malay': 'ms',\n",
    " 'malayalam': 'ml',\n",
    " 'maltese': 'mt',\n",
    " 'maori': 'mi',\n",
    " 'marathi': 'mr',\n",
    " 'mongolian': 'mn',\n",
    " 'myanmar (burmese)': 'my',\n",
    " 'nepali': 'ne',\n",
    " 'norwegian': 'no',\n",
    " 'odia': 'or',\n",
    " 'pashto': 'ps',\n",
    " 'persian': 'fa',\n",
    " 'polish': 'pl',\n",
    " 'portuguese': 'pt',\n",
    " 'punjabi': 'pa',\n",
    " 'romanian': 'ro',\n",
    " 'russian': 'ru',\n",
    " 'samoan': 'sm',\n",
    " 'scots gaelic': 'gd',\n",
    " 'serbian': 'sr',\n",
    " 'sesotho': 'st',\n",
    " 'shona': 'sn',\n",
    " 'sindhi': 'sd',\n",
    " 'sinhala': 'si',\n",
    " 'slovak': 'sk',\n",
    " 'slovenian': 'sl',\n",
    " 'somali': 'so',\n",
    " 'spanish': 'es',\n",
    " 'sundanese': 'su',\n",
    " 'swahili': 'sw',\n",
    " 'swedish': 'sv',\n",
    " 'tajik': 'tg',\n",
    " 'tamil': 'ta',\n",
    " 'telugu': 'te',\n",
    " 'thai': 'th',\n",
    " 'turkish': 'tr',\n",
    " 'ukrainian': 'uk',\n",
    " 'urdu': 'ur',\n",
    " 'uyghur': 'ug',\n",
    " 'uzbek': 'uz',\n",
    " 'vietnamese': 'vi',\n",
    " 'welsh': 'cy',\n",
    " 'xhosa': 'xh',\n",
    " 'yiddish': 'yi',\n",
    " 'yoruba': 'yo',\n",
    " 'zulu': 'zu'}\n",
    "\n",
    "#create a combo box\n",
    "\n",
    "lang = StringVar()\n",
    "font_box = Combobox(root, width=30, textvariable=lang, state='readonly')\n",
    "font_box['values'] = [e for e in lang_dict.keys()]\n",
    "font_box.current(37)\n",
    "font_box.place(x=300, y=0)"
   ]
  },
  {
   "cell_type": "code",
   "execution_count": 73,
   "metadata": {},
   "outputs": [],
   "source": [
    "#translate funtion\n",
    "def tt(event=None):\n",
    "    try:\n",
    "        trans = TextBlob(inputText.get())\n",
    "        language = trans.detect_language()\n",
    "        lang_to_dict = lang.get()\n",
    "        lan_to = lang_dict[lang_to_dict]\n",
    "        trans = trans.translate(from_lang=language, to=lan_to)\n",
    "        sp = trans.split()\n",
    "        label3.configure(text=trans)\n",
    "        outputText.set(trans)\n",
    "    except:\n",
    "        outputText.set('No Result For Above Word')\n",
    "\n",
    "#exit function\n",
    "def main_exit():\n",
    "    rr = messagebox.askyesnocancel('Notification', 'Sure?', parent=root)\n",
    "    if rr==True:\n",
    "        root.destroy()\n",
    "        \n",
    "##get image\n",
    "def open_img():\n",
    "    try:\n",
    "        # Select the Imagename  from a folder  \n",
    "        x = openfilename() \n",
    "\n",
    "        # opens the image \n",
    "        #img = Image.open(x) \n",
    "\n",
    "        # resize the image and apply a high-quality down sampling filter \n",
    "        #img = img.resize((250, 250), Image.ANTIALIAS)\n",
    "        bounds = reader.readtext(x)\n",
    "        text = \"\"\n",
    "        for i in bounds:\n",
    "            text = text + \"\\n\" + i[1]\n",
    "        inputText.set(text)\n",
    "        print(text)\n",
    "    except:\n",
    "        inputText.set('No text generated')\n",
    "        \n",
    "        \n",
    "def openfilename(): \n",
    "  \n",
    "    # open file dialog box to select image \n",
    "    # The dialogue box has a title \"Open\" \n",
    "    filename = filedialog.askopenfilename(title ='\"pen') \n",
    "    return filename \n",
    "\n",
    "##Binding functions\n",
    "def on_entry1(e):\n",
    "    entry1['bg']:'grey'\n",
    "def on_leave1(e):\n",
    "    entry1['bg']:'white'\n",
    "        \n",
    "def on_entry2(e):\n",
    "    entry2['bg']:'grey'\n",
    "def on_leave2(e):\n",
    "    entry2['bg']:'white'\n",
    "        \n",
    "def on_entrybt1(e):\n",
    "    bt1['bg']:'green'\n",
    "def on_leavebt1(e):\n",
    "    bt1['bg']:'grey'\n",
    "        \n",
    "def on_entrybt2(e):\n",
    "    bt2['bg']:'red'\n",
    "def on_leavebt2(e):\n",
    "    bt2['bg']:'grey'"
   ]
  },
  {
   "cell_type": "code",
   "execution_count": 74,
   "metadata": {},
   "outputs": [],
   "source": [
    "###create Text boxes, label, etc\n",
    "#input text box\n",
    "inputText = StringVar()\n",
    "entry1 = Entry(root, width=30, textvariable=inputText, font=('time', 15, 'italic bold'))\n",
    "entry1.place(x=150, y=40)\n",
    "\n",
    "#output text box\n",
    "outputText = StringVar()\n",
    "entry2 = Entry(root, width=30, textvariable=outputText, font=('time', 15, 'italic bold'), relief='ridge')\n",
    "entry2.place(x=150, y=120)\n",
    "\n",
    "#labels\n",
    "label1 = Label(root, text='Enter Text: ', font=('time', 15, 'italic bold'), bg='black', fg='turquoise1')\n",
    "label1.place(x=5, y=40)\n",
    "label2 = Label(root, text='Translated: ', font=('time', 15, 'italic bold'), bg='black', fg='turquoise1')\n",
    "label2.place(x=5, y=120)\n",
    "label3 = Label(root, text='', font=('time', 10, 'italic bold'), bg='black', fg='green')\n",
    "label3.place(x=50, y=270)"
   ]
  },
  {
   "cell_type": "code",
   "execution_count": 75,
   "metadata": {},
   "outputs": [
    {
     "data": {
      "text/plain": [
       "'2918344483272tt'"
      ]
     },
     "execution_count": 75,
     "metadata": {},
     "output_type": "execute_result"
    }
   ],
   "source": [
    "#Buttons\n",
    "#imgbt1 = PhotoImage(file='click.png')\n",
    "#imgbt2 = PhotoImage(file='exit.png')\n",
    "\n",
    "#imgbt1 = imgbt1.subsample(2, 2)\n",
    "#imgbt2 = imgbt2.subsample(2, 2)\n",
    "\n",
    "btn = Button(root, text ='open image', command = open_img)\n",
    "btn.place(x=230, y=80)\n",
    "\n",
    "bt1 = Button(root, text='Click', bd=10, bg='grey', activebackground='green', width=10, font=('time', 15, 'italic bold'), command=tt)\n",
    "bt1.place(x=70, y=190)\n",
    "bt2 = Button(root, text='Exit', bd=10, bg='grey', activebackground='red', width=10, font=('time', 15, 'italic bold'),command=main_exit)\n",
    "bt2.place(x=280, y=190)\n",
    "\n",
    "root.bind('<Return>', tt)"
   ]
  },
  {
   "cell_type": "code",
   "execution_count": 76,
   "metadata": {},
   "outputs": [
    {
     "data": {
      "text/plain": [
       "'2916681485320on_leavebt2'"
      ]
     },
     "execution_count": 76,
     "metadata": {},
     "output_type": "execute_result"
    }
   ],
   "source": [
    "#button binding(gives hover effect)\n",
    "entry1.bind('<Enter>', on_entry1)\n",
    "entry1.bind('<Leave>', on_leave1)\n",
    "\n",
    "entry2.bind('<Enter>', on_entry2)\n",
    "entry2.bind('<Leave>', on_leave2)\n",
    "\n",
    "bt1.bind('<Enter>', on_entrybt1)\n",
    "bt1.bind('<Leave>', on_leavebt1)\n",
    "\n",
    "bt2.bind('<Enter>', on_entrybt2)\n",
    "bt2.bind('<Leave>', on_leavebt2)"
   ]
  },
  {
   "cell_type": "code",
   "execution_count": null,
   "metadata": {},
   "outputs": [
    {
     "name": "stdout",
     "output_type": "stream",
     "text": [
      "\n",
      "OPEN\n",
      "\n",
      "EMERCENCY EXIT\n"
     ]
    }
   ],
   "source": [
    "root.mainloop()\n"
   ]
  },
  {
   "cell_type": "code",
   "execution_count": null,
   "metadata": {},
   "outputs": [],
   "source": []
  },
  {
   "cell_type": "code",
   "execution_count": null,
   "metadata": {},
   "outputs": [],
   "source": []
  },
  {
   "cell_type": "code",
   "execution_count": null,
   "metadata": {},
   "outputs": [],
   "source": []
  }
 ],
 "metadata": {
  "kernelspec": {
   "display_name": "Python 3",
   "language": "python",
   "name": "python3"
  },
  "language_info": {
   "codemirror_mode": {
    "name": "ipython",
    "version": 3
   },
   "file_extension": ".py",
   "mimetype": "text/x-python",
   "name": "python",
   "nbconvert_exporter": "python",
   "pygments_lexer": "ipython3",
   "version": "3.6.5"
  }
 },
 "nbformat": 4,
 "nbformat_minor": 4
}
